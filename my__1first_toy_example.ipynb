{
  "nbformat": 4,
  "nbformat_minor": 0,
  "metadata": {
    "colab": {
      "name": "my_ 1first_toy_example.ipynb",
      "version": "0.3.2",
      "provenance": []
    },
    "kernelspec": {
      "name": "python3",
      "display_name": "Python 3"
    }
  },
  "cells": [
    {
      "cell_type": "markdown",
      "metadata": {
        "id": "view-in-github",
        "colab_type": "text"
      },
      "source": [
        "[View in Colaboratory](https://colab.research.google.com/github/scarimp/my_NLP/blob/master/my__1first_toy_example.ipynb)"
      ]
    },
    {
      "metadata": {
        "id": "n7LurwSJOdSi",
        "colab_type": "text"
      },
      "cell_type": "markdown",
      "source": [
        "From **a toy example**  in https://github.com/ugik/notebooks/blob/master/tflearn%20toy%20ANN.ipynb"
      ]
    },
    {
      "metadata": {
        "id": "ajlNT-qTR-hE",
        "colab_type": "toc"
      },
      "cell_type": "markdown",
      "source": [
        ""
      ]
    },
    {
      "metadata": {
        "id": "-Q8YHL9LfJqG",
        "colab_type": "code",
        "colab": {
          "base_uri": "https://localhost:8080/",
          "height": 301
        },
        "outputId": "042042ce-750f-4c94-c796-955274be505a"
      },
      "cell_type": "code",
      "source": [
        "!pip install tflearn"
      ],
      "execution_count": 2,
      "outputs": [
        {
          "output_type": "stream",
          "text": [
            "Looking in indexes: https://pypi.org/simple, https://legacy.pypi.org/simple\r\n",
            "Collecting tflearn\n",
            "\u001b[?25l  Downloading https://files.pythonhosted.org/packages/16/ec/e9ce1b52e71f6dff3bd944f020cef7140779e783ab27512ea7c7275ddee5/tflearn-0.3.2.tar.gz (98kB)\n",
            "\u001b[K    100% |████████████████████████████████| 102kB 2.6MB/s \n",
            "\u001b[?25hRequirement already satisfied: numpy in /usr/local/lib/python3.6/dist-packages (from tflearn) (1.14.2)\n",
            "Requirement already satisfied: six in /usr/local/lib/python3.6/dist-packages (from tflearn) (1.11.0)\n",
            "Requirement already satisfied: Pillow in /usr/local/lib/python3.6/dist-packages (from tflearn) (4.0.0)\n",
            "Requirement already satisfied: olefile in /usr/local/lib/python3.6/dist-packages (from Pillow->tflearn) (0.45.1)\n",
            "Building wheels for collected packages: tflearn\n",
            "  Running setup.py bdist_wheel for tflearn ... \u001b[?25l-\b \b\\\b \bdone\n",
            "\u001b[?25h  Stored in directory: /content/.cache/pip/wheels/d0/f6/69/0ef3ee395aac2e5d15d89efd29a9a216f3c27767b43b72c006\n",
            "Successfully built tflearn\n",
            "Installing collected packages: tflearn\n",
            "Successfully installed tflearn-0.3.2\n"
          ],
          "name": "stdout"
        }
      ]
    },
    {
      "metadata": {
        "id": "a8zpVlW3fev0",
        "colab_type": "code",
        "colab": {
          "base_uri": "https://localhost:8080/",
          "height": 36
        },
        "outputId": "0b740f91-e95d-4270-c706-a5ec8948a4c4"
      },
      "cell_type": "code",
      "source": [
        "!help"
      ],
      "execution_count": 7,
      "outputs": [
        {
          "output_type": "stream",
          "text": [
            "/bin/sh: 1: help: not found\r\n"
          ],
          "name": "stdout"
        }
      ]
    },
    {
      "metadata": {
        "id": "fX5X9ni9O1re",
        "colab_type": "code",
        "colab": {
          "base_uri": "https://localhost:8080/",
          "height": 74
        },
        "outputId": "432937d6-d879-4c46-989f-36ebc6d26c42"
      },
      "cell_type": "code",
      "source": [
        "\n",
        "import numpy as np\n",
        "import random\n",
        "import tensorflow as tf\n",
        "import tflearn \n",
        "import numpy as np\n",
        "import matplotlib as plt\n",
        "\n",
        "\n",
        "print(\"tensorflow vers.=\", tf.__version__)\n",
        "#print(\"tflearn vers.=\", tflearn.__version__)\n",
        "print(\"numpy vers.=\", np.__version__)\n",
        "print(\"matplotlib vers.=\", plt.__version__)"
      ],
      "execution_count": 10,
      "outputs": [
        {
          "output_type": "stream",
          "text": [
            "tensorflow vers.= 1.7.0\n",
            "numpy vers.= 1.14.2\n",
            "matplotlib vers.= 2.1.2\n"
          ],
          "name": "stdout"
        }
      ]
    },
    {
      "metadata": {
        "id": "GowOSsdheDSW",
        "colab_type": "code",
        "colab": {}
      },
      "cell_type": "code",
      "source": [
        "\n",
        "def create_feature_sets_and_labels():\n",
        "  s1 = Symbolic(\"0 1 9 3\")\n",
        "  r.add_pattern(pattern=s1, attribute='foo', relation='is')\n",
        "  s2 = Symbolic(\"0 1 7 4\")\n",
        "  r.add_pattern(pattern=s2, attribute='foo', relation='is')\n",
        "  s3 = Symbolic(\"0 1 5 0\")\n",
        "  r.add_pattern(pattern=s3, attribute='foo', relation='is')\n",
        "  s4 = Symbolic(\"1 0 4 6\")\n",
        "  r.add_pattern(pattern=s4, attribute='foo', relation='is')\n",
        "  s5 = Symbolic(\"1 0 3 7\")\n",
        "  \n",
        "  features = []\n",
        "  features.append([[0, 1, 0, 0, 0], [0,1]])\n",
        "  # known patterns (5 features) output of [1] of positions [0,4]==1\n",
        "    \n",
        "    \n",
        "  features.append([[0, 0, 0, 0, 1], [0,1]])\n",
        "#    features.append([[0, 0, 0, 1, 1], [0,1]])\n",
        "  features.append([[0, 0, 1, 1, 1], [0,1]])\n",
        "  features.append([[0, 1, 1, 1, 1], [0,1]])\n",
        "  features.append([[1, 1, 1, 1, 0], [0,1]])\n",
        "  features.append([[1, 1, 1, 0, 0], [0,1]])\n",
        "  features.append([[1, 1, 0, 0, 0], [0,1]])\n",
        "  features.append([[1, 0, 0, 0, 0], [0,1]])\n",
        "  features.append([[1, 0, 0, 1, 0], [0,1]])\n",
        "  features.append([[1, 0, 1, 1, 0], [0,1]])\n",
        "  features.append([[1, 1, 0, 1, 0], [0,1]])\n",
        "  features.append([[0, 1, 0, 1, 1], [0,1]])\n",
        "  features.append([[0, 0, 1, 0, 1], [0,1]])\n",
        "#    features.append([[1, 0, 1, 1, 1], [1,0]])\n",
        "  features.append([[1, 1, 0, 1, 1], [1,0]])\n",
        "#    features.append([[1, 0, 1, 0, 1], [1,0]])\n",
        "  features.append([[1, 0, 0, 0, 1], [1,0]])\n",
        "  features.append([[1, 1, 0, 0, 1], [1,0]])\n",
        "  features.append([[1, 1, 1, 0, 1], [1,0]])\n",
        "  features.append([[1, 1, 1, 1, 1], [1,0]])\n",
        "  features.append([[1, 0, 0, 1, 1], [1,0]])\n",
        "\n",
        "  # shuffle our features and turn into np.array\n",
        "  random.shuffle(features)\n",
        "  features = np.array(features)\n",
        "\n",
        "  # create train and test lists\n",
        "  train_x = list(features[:,0])\n",
        "  train_y = list(features[:,1])\n",
        "\n",
        "  return train_x, train_y\n",
        "\n"
      ],
      "execution_count": 0,
      "outputs": []
    },
    {
      "metadata": {
        "id": "dmUWkhQSeMLG",
        "colab_type": "code",
        "colab": {
          "base_uri": "https://localhost:8080/",
          "height": 308
        },
        "outputId": "e629bb20-618a-4860-9e65-5be7d53639a9"
      },
      "cell_type": "code",
      "source": [
        "train_x, train_y = create_feature_sets_and_labels()"
      ],
      "execution_count": 25,
      "outputs": [
        {
          "output_type": "error",
          "ename": "NameError",
          "evalue": "ignored",
          "traceback": [
            "\u001b[0;31m---------------------------------------------------------------------------\u001b[0m",
            "\u001b[0;31mNameError\u001b[0m                                 Traceback (most recent call last)",
            "\u001b[0;32m<ipython-input-25-1bebcabbbcd2>\u001b[0m in \u001b[0;36m<module>\u001b[0;34m()\u001b[0m\n\u001b[0;32m----> 1\u001b[0;31m \u001b[0mtrain_x\u001b[0m\u001b[0;34m,\u001b[0m \u001b[0mtrain_y\u001b[0m \u001b[0;34m=\u001b[0m \u001b[0mcreate_feature_sets_and_labels\u001b[0m\u001b[0;34m(\u001b[0m\u001b[0;34m)\u001b[0m\u001b[0;34m\u001b[0m\u001b[0m\n\u001b[0m",
            "\u001b[0;32m<ipython-input-24-f198f4394c9a>\u001b[0m in \u001b[0;36mcreate_feature_sets_and_labels\u001b[0;34m()\u001b[0m\n\u001b[1;32m      1\u001b[0m \u001b[0;34m\u001b[0m\u001b[0m\n\u001b[1;32m      2\u001b[0m \u001b[0;32mdef\u001b[0m \u001b[0mcreate_feature_sets_and_labels\u001b[0m\u001b[0;34m(\u001b[0m\u001b[0;34m)\u001b[0m\u001b[0;34m:\u001b[0m\u001b[0;34m\u001b[0m\u001b[0m\n\u001b[0;32m----> 3\u001b[0;31m   \u001b[0ms1\u001b[0m \u001b[0;34m=\u001b[0m \u001b[0mSymbolic\u001b[0m\u001b[0;34m(\u001b[0m\u001b[0;34m\"0 1 9 3\"\u001b[0m\u001b[0;34m)\u001b[0m\u001b[0;34m\u001b[0m\u001b[0m\n\u001b[0m\u001b[1;32m      4\u001b[0m   \u001b[0mr\u001b[0m\u001b[0;34m.\u001b[0m\u001b[0madd_pattern\u001b[0m\u001b[0;34m(\u001b[0m\u001b[0mpattern\u001b[0m\u001b[0;34m=\u001b[0m\u001b[0ms1\u001b[0m\u001b[0;34m,\u001b[0m \u001b[0mattribute\u001b[0m\u001b[0;34m=\u001b[0m\u001b[0;34m'foo'\u001b[0m\u001b[0;34m,\u001b[0m \u001b[0mrelation\u001b[0m\u001b[0;34m=\u001b[0m\u001b[0;34m'is'\u001b[0m\u001b[0;34m)\u001b[0m\u001b[0;34m\u001b[0m\u001b[0m\n\u001b[1;32m      5\u001b[0m   \u001b[0ms2\u001b[0m \u001b[0;34m=\u001b[0m \u001b[0mSymbolic\u001b[0m\u001b[0;34m(\u001b[0m\u001b[0;34m\"0 1 7 4\"\u001b[0m\u001b[0;34m)\u001b[0m\u001b[0;34m\u001b[0m\u001b[0m\n",
            "\u001b[0;31mNameError\u001b[0m: name 'Symbolic' is not defined"
          ]
        }
      ]
    },
    {
      "metadata": {
        "id": "lU3CGPS5eT9k",
        "colab_type": "code",
        "colab": {}
      },
      "cell_type": "code",
      "source": [
        "# reset underlying graph data\n",
        "import tensorflow as tf\n",
        "tf.reset_default_graph()\n",
        "# Build neural network\n",
        "net = tflearn.input_data(shape=[None, 5])\n",
        "net = tflearn.fully_connected(net, 32)\n",
        "net = tflearn.fully_connected(net, 32)\n",
        "net = tflearn.fully_connected(net, 2, activation='softmax')\n",
        "net = tflearn.regression(net)\n",
        "\n",
        "# Define model and setup tensorboard\n",
        "model = tflearn.DNN(net, tensorboard_dir='tflearn_logs')\n",
        "# Start training (apply gradient descent algorithm)\n",
        "model.fit(train_x, train_y, n_epoch=100, batch_size=16, show_metric=True)"
      ],
      "execution_count": 0,
      "outputs": []
    },
    {
      "metadata": {
        "id": "EkXKwtSVee2e",
        "colab_type": "code",
        "colab": {}
      },
      "cell_type": "code",
      "source": [
        "print(model.predict([[0, 0, 0, 1, 1]]))\n",
        "print(model.predict([[1, 0, 1, 0, 1]]))"
      ],
      "execution_count": 0,
      "outputs": []
    }
  ]
}